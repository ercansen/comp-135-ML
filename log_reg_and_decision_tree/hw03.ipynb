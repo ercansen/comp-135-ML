{
 "cells": [
  {
   "cell_type": "markdown",
   "metadata": {},
   "source": [
    "## Name and ID\n",
    "\n",
    "Ercan Sen (1226073)"
   ]
  },
  {
   "cell_type": "markdown",
   "metadata": {},
   "source": [
    "## HW03 Code\n",
    "\n",
    "\n",
    "You will complete the following notebook, as described in the PDF for Homework 03 (included in the download with the starter code).  You will submit:\n",
    "1. This notebook file, along with your COLLABORATORS.txt file and the two tree images (PDFs generated using `graphviz` within the code), to the Gradescope link for code.\n",
    "2. A PDF of this notebook and all of its output, once it is completed, to the Gradescope link for the PDF.\n",
    "\n",
    "\n",
    "Please report any questions to the [class Piazza page](https://piazza.com/tufts/spring2020/comp135).\n",
    "\n",
    "### Import required libraries."
   ]
  },
  {
   "cell_type": "code",
   "execution_count": 1,
   "metadata": {},
   "outputs": [],
   "source": [
    "import os\n",
    "import numpy as np\n",
    "import pandas as pd\n",
    "\n",
    "import warnings\n",
    "\n",
    "from sklearn.linear_model import LogisticRegression as LogReg\n",
    "import sklearn.tree\n",
    "from sklearn.metrics import log_loss\n",
    "from sklearn.metrics import roc_curve\n",
    "\n",
    "from matplotlib import pyplot as plt\n",
    "import seaborn as sns\n",
    "%matplotlib inline\n",
    "plt.style.use('seaborn') # pretty matplotlib plots\n",
    "\n",
    "import graphviz"
   ]
  },
  {
   "cell_type": "markdown",
   "metadata": {},
   "source": [
    "## Part One: Cancer-Risk Screening\n",
    "\n",
    "### 1.1: Compute true/false positives/negatives.\n",
    "\n",
    "Complete the following code."
   ]
  },
  {
   "cell_type": "code",
   "execution_count": 2,
   "metadata": {},
   "outputs": [],
   "source": [
    "def calc_TP_TN_FP_FN(ytrue_N, yhat_N):\n",
    "    ''' Compute counts of four possible outcomes of a binary classifier for evaluation.\n",
    "    \n",
    "    Args\n",
    "    ----\n",
    "    ytrue_N : 1D array of floats\n",
    "        Each entry represents the binary value (0 or 1) of 'true' label of one example\n",
    "        One entry per example in current dataset\n",
    "    yhat_N : 1D array of floats\n",
    "        Each entry represents a predicted binary value (either 0 or 1).\n",
    "        One entry per example in current dataset.\n",
    "        Needs to be same size as ytrue_N.\n",
    "\n",
    "    Returns\n",
    "    -------\n",
    "    TP : float\n",
    "        Number of true positives\n",
    "    TN : float\n",
    "        Number of true negatives\n",
    "    FP : float\n",
    "        Number of false positives\n",
    "    FN : float\n",
    "        Number of false negatives\n",
    "    '''\n",
    "    TP = 0.0\n",
    "    TN = 0.0\n",
    "    FP = 0.0\n",
    "    FN = 0.0\n",
    "    \n",
    "    for i in range(ytrue_N.size):\n",
    "        if ytrue_N[i] == 1: # TP or FN\n",
    "            if yhat_N[i] == 1:\n",
    "                TP += 1\n",
    "            else:\n",
    "                FN += 1\n",
    "        else: # TN or FP\n",
    "            if yhat_N[i] == 0:\n",
    "                TN += 1\n",
    "            else:\n",
    "                FP += 1\n",
    "\n",
    "    return TP, TN, FP, FN"
   ]
  },
  {
   "cell_type": "code",
   "execution_count": 3,
   "metadata": {},
   "outputs": [
    {
     "data": {
      "text/plain": [
       "(0.0, 0.0, 10.0, 0.0)"
      ]
     },
     "execution_count": 3,
     "metadata": {},
     "output_type": "execute_result"
    }
   ],
   "source": [
    "all0 = np.zeros(10)\n",
    "all1 = np.ones(10)\n",
    "calc_TP_TN_FP_FN(all0, all1)"
   ]
  },
  {
   "cell_type": "code",
   "execution_count": 4,
   "metadata": {},
   "outputs": [
    {
     "data": {
      "text/plain": [
       "(0.0, 0.0, 0.0, 10.0)"
      ]
     },
     "execution_count": 4,
     "metadata": {},
     "output_type": "execute_result"
    }
   ],
   "source": [
    "calc_TP_TN_FP_FN(all1, all0)"
   ]
  },
  {
   "cell_type": "code",
   "execution_count": 5,
   "metadata": {},
   "outputs": [
    {
     "data": {
      "text/plain": [
       "(10.0, 0.0, 0.0, 0.0)"
      ]
     },
     "execution_count": 5,
     "metadata": {},
     "output_type": "execute_result"
    }
   ],
   "source": [
    "calc_TP_TN_FP_FN(all1, all1)"
   ]
  },
  {
   "cell_type": "code",
   "execution_count": 6,
   "metadata": {},
   "outputs": [
    {
     "data": {
      "text/plain": [
       "(0.0, 10.0, 0.0, 0.0)"
      ]
     },
     "execution_count": 6,
     "metadata": {},
     "output_type": "execute_result"
    }
   ],
   "source": [
    "calc_TP_TN_FP_FN(all0, all0)"
   ]
  },
  {
   "cell_type": "markdown",
   "metadata": {},
   "source": [
    "### Supplied functions for later use\n",
    "\n",
    "***Do not*** edit the following functions.  They are already complete, and will be used in your later code."
   ]
  },
  {
   "cell_type": "code",
   "execution_count": 7,
   "metadata": {},
   "outputs": [],
   "source": [
    "def calc_perf_metrics_for_threshold(ytrue_N, yproba1_N, thresh):\n",
    "    ''' Compute performance metrics for a given probabilistic classifier and threshold\n",
    "    '''\n",
    "    tp, tn, fp, fn = calc_TP_TN_FP_FN(ytrue_N, yproba1_N >= thresh)\n",
    "    ## Compute ACC, TPR, TNR, etc.\n",
    "    acc = (tp + tn) / float(tp + tn + fp + fn + 1e-10)\n",
    "    tpr = tp / float(tp + fn + 1e-10)\n",
    "    tnr = tn / float(fp + tn + 1e-10)\n",
    "    ppv = tp / float(tp + fp + 1e-10)\n",
    "    npv = tn / float(tn + fn + 1e-10)\n",
    "    \n",
    "    return acc, tpr, tnr, ppv, npv\n",
    "\n",
    "def print_perf_metrics_for_threshold(ytrue_N, yproba1_N, thresh):\n",
    "    ''' Pretty print perf. metrics for a given probabilistic classifier and threshold\n",
    "    '''\n",
    "    acc, tpr, tnr, ppv, npv = calc_perf_metrics_for_threshold(ytrue_N, yproba1_N, thresh)\n",
    "    \n",
    "    ## Pretty print the results\n",
    "    print(\"%.3f ACC\" % acc)\n",
    "    print(\"%.3f TPR\" % tpr)\n",
    "    print(\"%.3f TNR\" % tnr)\n",
    "    print(\"%.3f PPV\" % ppv)\n",
    "    print(\"%.3f NPV\" % npv)"
   ]
  },
  {
   "cell_type": "code",
   "execution_count": 8,
   "metadata": {},
   "outputs": [],
   "source": [
    "def calc_confusion_matrix_for_threshold(ytrue_N, yproba1_N, thresh):\n",
    "    ''' Compute the confusion matrix for a given probabilistic classifier and threshold\n",
    "    \n",
    "    Args\n",
    "    ----\n",
    "    ytrue_N : 1D array of floats\n",
    "        Each entry represents the binary value (0 or 1) of 'true' label of one example\n",
    "        One entry per example in current dataset\n",
    "    yproba1_N : 1D array of floats\n",
    "        Each entry represents a probability (between 0 and 1) that correct label is positive (1)\n",
    "        One entry per example in current dataset\n",
    "        Needs to be same size as ytrue_N\n",
    "    thresh : float\n",
    "        Scalar threshold for converting probabilities into hard decisions\n",
    "        Calls an example \"positive\" if yproba1 >= thresh\n",
    "\n",
    "    Returns\n",
    "    -------\n",
    "    cm_df : Pandas DataFrame\n",
    "        Can be printed like print(cm_df) to easily display results\n",
    "    '''\n",
    "    cm = sklearn.metrics.confusion_matrix(ytrue_N, yproba1_N >= thresh)\n",
    "    cm_df = pd.DataFrame(data=cm, columns=[0, 1], index=[0, 1])\n",
    "    cm_df.columns.name = 'Predicted'\n",
    "    cm_df.index.name = 'True'\n",
    "    return cm_df"
   ]
  },
  {
   "cell_type": "code",
   "execution_count": 9,
   "metadata": {},
   "outputs": [],
   "source": [
    "def compute_perf_metrics_across_thresholds(ytrue_N, yproba1_N, thresh_grid=None):\n",
    "    ''' Compute common binary classifier performance metrics across many thresholds\n",
    "    \n",
    "    If no array of thresholds is provided, will use all 'unique' values\n",
    "    in the yproba1_N array to define all possible thresholds with different performance.\n",
    "    \n",
    "    Args\n",
    "    ----\n",
    "    ytrue_N : 1D array of floats\n",
    "        Each entry represents the binary value (0 or 1) of 'true' label of one example\n",
    "        One entry per example in current dataset\n",
    "    yproba1_N : 1D array of floats\n",
    "        Each entry represents a probability (between 0 and 1) that correct label is positive (1)\n",
    "        One entry per example in current dataset\n",
    "\n",
    "    Returns\n",
    "    -------\n",
    "    thresh_grid : 1D array of floats\n",
    "        One entry for each possible threshold\n",
    "    perf_dict : dict, with key, value pairs:\n",
    "        * 'acc' : 1D array of accuracy values (one per threshold)\n",
    "        * 'ppv' : 1D array of positive predictive values (one per threshold)\n",
    "        * 'npv' : 1D array of negative predictive values (one per threshold)\n",
    "        * 'tpr' : 1D array of true positive rates (one per threshold)\n",
    "        * 'tnr' : 1D array of true negative rates (one per threshold)\n",
    "    '''\n",
    "    if thresh_grid is None:\n",
    "        bin_edges = np.linspace(0, 1.001, 21)\n",
    "        thresh_grid = np.sort(np.hstack([bin_edges, np.unique(yproba1_N)]))\n",
    "    tpr_grid = np.zeros_like(thresh_grid)\n",
    "    tnr_grid = np.zeros_like(thresh_grid)\n",
    "    ppv_grid = np.zeros_like(thresh_grid)\n",
    "    npv_grid = np.zeros_like(thresh_grid)\n",
    "    acc_grid = np.zeros_like(thresh_grid)\n",
    "    for tt, thresh in enumerate(thresh_grid):\n",
    "        # Apply specific threshold to convert probas into hard binary values (0 or 1)\n",
    "        # Then count number of true positives, true negatives, etc.\n",
    "        # Then compute metrics like accuracy and true positive rate\n",
    "        acc, tpr, tnr, ppv, npv = calc_perf_metrics_for_threshold(ytrue_N, yproba1_N, thresh)\n",
    "        acc_grid[tt] = acc\n",
    "        tpr_grid[tt] = tpr\n",
    "        tnr_grid[tt] = tnr\n",
    "        ppv_grid[tt] = ppv\n",
    "        npv_grid[tt] = npv\n",
    "    return thresh_grid, dict(\n",
    "        acc=acc_grid,\n",
    "        tpr=tpr_grid,\n",
    "        tnr=tnr_grid,\n",
    "        ppv=ppv_grid,\n",
    "        npv=npv_grid)\n",
    "\n",
    "def make_plot_perf_vs_threshold(ytrue_N, yproba1_N, bin_edges=np.linspace(0, 1, 21)):\n",
    "    ''' Make pretty plot of binary classifier performance as threshold increases\n",
    "    \n",
    "    Produces a plot with 3 rows:\n",
    "    * top row: hist of predicted probabilities for negative examples (shaded red)\n",
    "    * middle row: hist of predicted probabilities for positive examples (shaded blue)\n",
    "    * bottom row: line plots of metrics that require hard decisions (ACC, TPR, TNR, etc.)\n",
    "    '''\n",
    "    fig, axes = plt.subplots(nrows=3, ncols=1, figsize=(12, 8))\n",
    "    sns.distplot(\n",
    "        yproba1_N[ytrue_N == 0],\n",
    "        color='r', bins=bin_edges, kde=False, rug=True, ax=axes[0]);\n",
    "    sns.distplot(\n",
    "        yproba1_N[ytrue_N == 1],\n",
    "        color='b', bins=bin_edges, kde=False, rug=True, ax=axes[1]);\n",
    "\n",
    "    thresh_grid, perf_grid = compute_perf_metrics_across_thresholds(ytrue_N, yproba1_N)\n",
    "    axes[2].plot(thresh_grid, perf_grid['acc'], 'k-', label='accuracy')\n",
    "    axes[2].plot(thresh_grid, perf_grid['tpr'], 'b-', label='TPR (recall/sensitivity)')\n",
    "    axes[2].plot(thresh_grid, perf_grid['tnr'], 'g-', label='TNR (specificity)')\n",
    "    axes[2].plot(thresh_grid, perf_grid['ppv'], 'c-', label='PPV (precision)')\n",
    "    axes[2].plot(thresh_grid, perf_grid['npv'], 'm-', label='NPV')\n",
    "    \n",
    "    axes[2].legend()\n",
    "    axes[2].set_ylim([0, 1])"
   ]
  },
  {
   "cell_type": "markdown",
   "metadata": {},
   "source": [
    "### Load the dataset.\n",
    "\n",
    "The following should ***not*** be modified.  After it runs, the various arrays it creates will contain the 2- or 3-feature input datasets."
   ]
  },
  {
   "cell_type": "code",
   "execution_count": 10,
   "metadata": {},
   "outputs": [],
   "source": [
    "# Load 3 feature version of x arrays\n",
    "x_tr_M3 = np.loadtxt('./data_cancer/x_train.csv', delimiter=',', skiprows=1)\n",
    "x_va_N3 = np.loadtxt('./data_cancer/x_valid.csv', delimiter=',', skiprows=1)\n",
    "x_te_N3 = np.loadtxt('./data_cancer/x_test.csv', delimiter=',', skiprows=1)\n",
    "\n",
    "# 2 feature version of x arrays\n",
    "x_tr_M2 = x_tr_M3[:, :2].copy()\n",
    "x_va_N2 = x_va_N3[:, :2].copy()\n",
    "x_te_N2 = x_te_N3[:, :2].copy()"
   ]
  },
  {
   "cell_type": "code",
   "execution_count": 11,
   "metadata": {},
   "outputs": [],
   "source": [
    "y_tr_M = np.loadtxt('./data_cancer/y_train.csv', delimiter=',', skiprows=1)\n",
    "y_va_N = np.loadtxt('./data_cancer/y_valid.csv', delimiter=',', skiprows=1)\n",
    "y_te_N = np.loadtxt('./data_cancer/y_test.csv', delimiter=',', skiprows=1)"
   ]
  },
  {
   "cell_type": "markdown",
   "metadata": {},
   "source": [
    "### 1.2: Compute the fraction of patients with cancer.\n",
    "\n",
    "Complete the following code.  Your solution needs to ***compute*** these values from the training, validation, and testing sets (i.e., don't simply hand-count and print the values)."
   ]
  },
  {
   "cell_type": "code",
   "execution_count": 12,
   "metadata": {},
   "outputs": [
    {
     "name": "stdout",
     "output_type": "stream",
     "text": [
      "Fraction with cancer in TRAIN: 0.141\n",
      "Fraction with cancer in VALID: 0.139\n",
      "Fraction with cancer in TEST : 0.139\n"
     ]
    }
   ],
   "source": [
    "print(\"Fraction with cancer in TRAIN: %.3f\" % (y_tr_M.sum()/y_tr_M.size)) #TODO: modify what is printed here.\n",
    "print(\"Fraction with cancer in VALID: %.3f\" % (y_va_N.sum()/y_va_N.size))\n",
    "print(\"Fraction with cancer in TEST : %.3f\" % (y_te_N.sum()/y_te_N.size))"
   ]
  },
  {
   "cell_type": "markdown",
   "metadata": {},
   "source": [
    "### 1.3: The predict-0-always baseline\n",
    "\n",
    "#### (a) Compute the accuracy of the always-0 classifier.\n",
    "\n",
    "Complete the code to compute and print the accuracy of the always-0 classifier on validation and test outputs."
   ]
  },
  {
   "cell_type": "code",
   "execution_count": 13,
   "metadata": {},
   "outputs": [
    {
     "name": "stdout",
     "output_type": "stream",
     "text": [
      "Always-0: accuracy on VALID: 0.861\n",
      "Always-0: accuracy on TEST : 0.861\n"
     ]
    }
   ],
   "source": [
    "print(\"Always-0: accuracy on VALID: %.3f\" % ((y_va_N.size-y_va_N.sum())/y_va_N.size)) # TODO edit values!\n",
    "print(\"Always-0: accuracy on TEST : %.3f\" % ((y_te_N.size-y_te_N.sum())/y_te_N.size))"
   ]
  },
  {
   "cell_type": "markdown",
   "metadata": {},
   "source": [
    "#### (b) Print a confusion matrix for the always-0 classifier.\n",
    "\n",
    "Add code below to generate a confusion matrix for the always-0 classifier on the validation set."
   ]
  },
  {
   "cell_type": "code",
   "execution_count": 14,
   "metadata": {},
   "outputs": [
    {
     "name": "stdout",
     "output_type": "stream",
     "text": [
      "Predicted    0  1\n",
      "True             \n",
      "0          155  0\n",
      "1           25  0\n"
     ]
    }
   ],
   "source": [
    "print(calc_confusion_matrix_for_threshold(y_va_N, np.zeros(y_va_N.size), 1))"
   ]
  },
  {
   "cell_type": "markdown",
   "metadata": {},
   "source": [
    "#### (c) Reflect on the accuracy of the always-0 classifier.\n",
    "\n",
    "**Answer**: 86.1% accuracy of the always-0 classifier seems reasonably high at first sight. It is able to classify all the true negatives with no issue at all, and it never makes a false positive classification. Yet, if we focus on the rest of the story, we see that this classifier fails to detect all the cases where there actually is cancer, i.e. it makes only false negative clasifications and no true positive classifications."
   ]
  },
  {
   "cell_type": "markdown",
   "metadata": {},
   "source": [
    "#### (d) Analyze the various costs of using the always-0 classifier.\n",
    "\n",
    "\n",
    "**Answer**: The task of this classification is determining cancer without biopsy, and even though the accuracy rate seems high, the classifier does a very poor job in its task as it fails to detect even a single case of cancer. The biggest cost of using the always-0 classifier is human lives. As we know that cancer is a highly pervasive disease, and if it goes untreated for a long time, there is a much higher chance that the patient won't survive. Given such high stakes, always-0 classifier should not be the choice in a task like this. We should also note that accuracy is not always a useful metric in measuring the performance of a model, since it contradicts with our conclusion. Another such exampe where accuracy metric gives a wrong impression is spam email detection: assume only 1% of the emails in an inbox is spam. If we again use an always-0 classifier and predict that none of the emails are spam, we would end up with a 99% accuracy metric, which is very high. However, since the whole point of such a clasifier is detecting spam, we would be doing a very poor job, even if the accuracy metric does not suggest so."
   ]
  },
  {
   "cell_type": "markdown",
   "metadata": {},
   "source": [
    "### 1.4: Logistic Regression\n",
    "\n",
    "#### (a) Create a set of `LogisticRegression` models.\n",
    "\n",
    "Each model will use a different control parameter, `C`, and each will be fit to 2-feature data.  Probabilistic predictions will be made on both training set and validation set inputs, and logistic-loss for each will be recorded."
   ]
  },
  {
   "cell_type": "code",
   "execution_count": 15,
   "metadata": {},
   "outputs": [],
   "source": [
    "tr_loss_list = list()\n",
    "va_loss_list = list()\n",
    "\n",
    "C_grid = np.logspace(-9, 6, 31)\n",
    "for C in C_grid:\n",
    "    logreg = LogReg(C=C, solver='liblinear')\n",
    "    logreg.fit(x_tr_M2, y_tr_M)\n",
    "    \n",
    "    tr_proba = logreg.predict_proba(x_tr_M2)\n",
    "    va_proba = logreg.predict_proba(x_va_N2)\n",
    "    \n",
    "    tr_loss_list.append(log_loss(y_tr_M, tr_proba))\n",
    "    va_loss_list.append(log_loss(y_va_N, va_proba))"
   ]
  },
  {
   "cell_type": "markdown",
   "metadata": {},
   "source": [
    "#### Plot logistic loss (y-axis) vs. C (x-axis) on the training set and validation set.\n",
    "\n",
    "The best values for `C` and the loss should be printed."
   ]
  },
  {
   "cell_type": "code",
   "execution_count": 16,
   "metadata": {},
   "outputs": [
    {
     "data": {
      "image/png": "[encoded data removed]",
      "text/plain": [
       "<Figure size 432x288 with 1 Axes>"
      ]
     },
     "metadata": {
      "needs_background": "light"
     },
     "output_type": "display_data"
    },
    {
     "name": "stdout",
     "output_type": "stream",
     "text": [
      "Best C-value for LR with 2-feature data: 31.623\n",
      "Validation set log-loss at best C-value: 0.3549\n"
     ]
    }
   ],
   "source": [
    "# TODO make plot\n",
    "plt.xlabel('log10(C)');\n",
    "plt.ylabel('logistic loss');\n",
    "plt.ylim([0.3, 0.7]);\n",
    "plt.plot(np.log(C_grid), tr_loss_list, c='red');\n",
    "plt.plot(np.log(C_grid), va_loss_list);\n",
    "plt.title('Logistic Loss vs. Log10(C)')\n",
    "\n",
    "# TODO add legend\n",
    "plt.legend(['Training', 'Validation']);\n",
    "\n",
    "plt.show()\n",
    "\n",
    "idx = np.argmin(va_loss_list)\n",
    "print(\"Best C-value for LR with 2-feature data: %.3f\" % C_grid[idx]) # TODO\n",
    "print(\"Validation set log-loss at best C-value: %.4f\" % va_loss_list[idx])"
   ]
  },
  {
   "cell_type": "markdown",
   "metadata": {},
   "source": [
    "#### (b) Plot the performance of the predictions made by the best classifier from step (a) on the validation set."
   ]
  },
  {
   "cell_type": "code",
   "execution_count": 17,
   "metadata": {},
   "outputs": [
    {
     "data": {
      "image/png": "[encoded data removed]",
      "text/plain": [
       "<Figure size 864x576 with 3 Axes>"
      ]
     },
     "metadata": {
      "needs_background": "light"
     },
     "output_type": "display_data"
    }
   ],
   "source": [
    "best = LogReg(C=C_grid[idx], solver='liblinear')\n",
    "best.fit(x_tr_M2, y_tr_M)\n",
    "best_proba = best.predict_proba(x_va_N2)\n",
    "make_plot_perf_vs_threshold(y_va_N, best_proba[:,1])"
   ]
  },
  {
   "cell_type": "markdown",
   "metadata": {},
   "source": [
    "#### (c) Model fitting with 3-feature data\n",
    "\n",
    "Repeat the model generation from **1.4 (a)**, using the full 3-feature data."
   ]
  },
  {
   "cell_type": "code",
   "execution_count": 18,
   "metadata": {},
   "outputs": [],
   "source": [
    "tr_loss_list_3 = list()\n",
    "va_loss_list_3 = list()\n",
    "\n",
    "C_grid = np.logspace(-9, 6, 31)\n",
    "for C in C_grid:\n",
    "    logreg = LogReg(C=C, solver='liblinear')\n",
    "    logreg.fit(x_tr_M3, y_tr_M)\n",
    "    \n",
    "    tr_proba_3 = logreg.predict_proba(x_tr_M3)\n",
    "    va_proba_3 = logreg.predict_proba(x_va_N3)\n",
    "    \n",
    "    tr_loss_list_3.append(log_loss(y_tr_M, tr_proba_3))\n",
    "    va_loss_list_3.append(log_loss(y_va_N, va_proba_3))"
   ]
  },
  {
   "cell_type": "markdown",
   "metadata": {},
   "source": [
    "#### Plot logistic loss (y-axis) vs. C (x-axis) for the 3-feature classifiers on the training set and validation set.\n",
    "\n",
    "Again, the best values for `C` and the loss should be printed."
   ]
  },
  {
   "cell_type": "code",
   "execution_count": 19,
   "metadata": {},
   "outputs": [
    {
     "data": {
      "image/png": "[encoded data removed]",
      "text/plain": [
       "<Figure size 432x288 with 1 Axes>"
      ]
     },
     "metadata": {
      "needs_background": "light"
     },
     "output_type": "display_data"
    },
    {
     "name": "stdout",
     "output_type": "stream",
     "text": [
      "Best C-value for LR with 3-feature data: 1000000.000\n",
      "Validation set log-loss at best C-value: 0.3584\n"
     ]
    }
   ],
   "source": [
    "# TODO make plot\n",
    "plt.xlabel('log10(C)');\n",
    "plt.ylabel('logistic loss');\n",
    "plt.ylim([0.25, 0.7]);\n",
    "plt.plot(np.log(C_grid), tr_loss_list_3, c='red');\n",
    "plt.plot(np.log(C_grid), va_loss_list_3);\n",
    "plt.title('Logistic Loss vs. Log10(C)')\n",
    "\n",
    "# TODO add legend\n",
    "plt.legend(['Training', 'Validation']);\n",
    "\n",
    "plt.show()\n",
    "\n",
    "idx3 = np.argmin(va_loss_list_3)\n",
    "print(\"Best C-value for LR with 3-feature data: %.3f\" % C_grid[idx3]) # TODO\n",
    "print(\"Validation set log-loss at best C-value: %.4f\" % va_loss_list[idx3])"
   ]
  },
  {
   "cell_type": "markdown",
   "metadata": {},
   "source": [
    "#### Plot the performance of the predictions made by the best 3-valued classifier on the validation set."
   ]
  },
  {
   "cell_type": "code",
   "execution_count": 20,
   "metadata": {},
   "outputs": [
    {
     "data": {
      "image/png": "[encoded data removed]",
      "text/plain": [
       "<Figure size 864x576 with 3 Axes>"
      ]
     },
     "metadata": {
      "needs_background": "light"
     },
     "output_type": "display_data"
    }
   ],
   "source": [
    "best3 = LogReg(C=C_grid[idx3], solver='liblinear')\n",
    "best3.fit(x_tr_M3, y_tr_M)\n",
    "best3_proba = best3.predict_proba(x_va_N3)\n",
    "make_plot_perf_vs_threshold(y_va_N, best3_proba[:,1])"
   ]
  },
  {
   "cell_type": "markdown",
   "metadata": {},
   "source": [
    "### 1.5: ROC Curves\n",
    "\n",
    "These curves allow us to compare model performance in terms of trade-offs between false positive and true positive results.\n",
    "\n",
    "#### (a) Plot ROC curves on the validation set.\n",
    "\n",
    "There should be two curves in the plot, one for each of the best two classifiers from prior steps."
   ]
  },
  {
   "cell_type": "code",
   "execution_count": 21,
   "metadata": {},
   "outputs": [
    {
     "data": {
      "image/png": "[encoded data removed]",
      "text/plain": [
       "<Figure size 432x288 with 1 Axes>"
      ]
     },
     "metadata": {
      "needs_background": "light"
     },
     "output_type": "display_data"
    }
   ],
   "source": [
    "fpr_va_2, tpr_va_2, thr_va_2 = roc_curve(y_va_N, best_proba[:,1])\n",
    "fpr_va_3, tpr_va_3, thr_va_3 = roc_curve(y_va_N, best3_proba[:,1])\n",
    "\n",
    "plt.plot(fpr_va_2, tpr_va_2, c='green');\n",
    "plt.plot(fpr_va_3, tpr_va_3, c='purple');\n",
    "plt.plot([0,1],[0,1],c='black',linestyle='dashed')\n",
    "plt.legend(['2-feature','3-feature'])\n",
    "plt.ylim([0, 1.02]);\n",
    "plt.xlabel(\"False Postive rate (FPR = 1 - TPR)\");\n",
    "plt.ylabel(\"True Postive rate (TPR)\");\n",
    "plt.title('ROC Curve for 2- and 3-feature Classifier on Validation Data');"
   ]
  },
  {
   "cell_type": "markdown",
   "metadata": {},
   "source": [
    "#### (b) Plot ROC curves on the test set.\n",
    "\n",
    "There should be two curves in the plot, one for each of the best two classifiers from prior steps."
   ]
  },
  {
   "cell_type": "code",
   "execution_count": 22,
   "metadata": {},
   "outputs": [
    {
     "data": {
      "image/png": "[encoded data removed]",
      "text/plain": [
       "<Figure size 432x288 with 1 Axes>"
      ]
     },
     "metadata": {
      "needs_background": "light"
     },
     "output_type": "display_data"
    }
   ],
   "source": [
    "fpr_te_2, tpr_te_2, thr_te_2 = roc_curve(y_te_N, best.predict_proba(x_te_N2)[:,1])\n",
    "fpr_te_3, tpr_te_3, thr_te_3 = roc_curve(y_te_N, best3.predict_proba(x_te_N3)[:,1])\n",
    "\n",
    "plt.plot(fpr_te_2, tpr_te_2, c='green');\n",
    "plt.plot(fpr_te_3, tpr_te_3, c='purple');\n",
    "plt.plot([0,1],[0,1],c='black',linestyle='dashed')\n",
    "plt.legend(['2-feature','3-feature'])\n",
    "plt.ylim([0, 1.02]);\n",
    "plt.xlabel(\"False Postive rate (FPR = 1 - TPR)\");\n",
    "plt.ylabel(\"True Postive rate (TPR)\");\n",
    "plt.title('ROC Curve for 2- and 3-feature Classifier on Test Data');"
   ]
  },
  {
   "cell_type": "markdown",
   "metadata": {},
   "source": [
    "#### (c) Analyze the results shown in both the above plots, to compare classifier performance."
   ]
  },
  {
   "cell_type": "markdown",
   "metadata": {},
   "source": [
    "**Answer**: We know that larger the area under the ROC curve, the better the model's performance. The dashed line on both graphs represent that the classification is made by random guess (so it is the worst possible way the model can possibly perform, and hence being further away from it translates into better performance--another way to interpret larger area under the curve). The ROCs for both validation and test sets show that the 3-feature classifier's performance is better. It implies that when we use the three features to build our model, the model predicts the true labels more accurately, compared to when we use the two features. Since including the additional feature ( _marker_ ) improved our model performance, we can conclude that the clinicians' belief that the measured chemical marker has some correlation with presence of cancer is true."
   ]
  },
  {
   "cell_type": "markdown",
   "metadata": {},
   "source": [
    "### 1.6: Selecting a decision threshold\n",
    "\n",
    "#### (a) Using default 0.5 threshold. \n",
    "\n",
    "Generate a confusion matrix for the best 3-feature logistic model on the test set, using threshold 0.5."
   ]
  },
  {
   "cell_type": "code",
   "execution_count": 23,
   "metadata": {},
   "outputs": [
    {
     "name": "stdout",
     "output_type": "stream",
     "text": [
      "ON THE VALIDATION SET:\n",
      "Chosen best thr = 0.5000\n",
      "\n",
      "ON THE TEST SET:\n",
      "Predicted    0   1\n",
      "True              \n",
      "0          152   3\n",
      "1           15  10\n",
      "\n",
      "0.900 ACC\n",
      "0.400 TPR\n",
      "0.981 TNR\n",
      "0.769 PPV\n",
      "0.910 NPV\n"
     ]
    }
   ],
   "source": [
    "best_thr = 0.5\n",
    "best3_probs_1 = best3.predict_proba(x_te_N3)[:,1]\n",
    "\n",
    "print(\"ON THE VALIDATION SET:\")\n",
    "print(\"Chosen best thr = %.4f\" % best_thr)\n",
    "print(\"\")\n",
    "print(\"ON THE TEST SET:\")\n",
    "print(calc_confusion_matrix_for_threshold(y_te_N, best3_probs_1, best_thr))\n",
    "print(\"\")\n",
    "print_perf_metrics_for_threshold(y_te_N, best3_probs_1, best_thr)"
   ]
  },
  {
   "cell_type": "markdown",
   "metadata": {},
   "source": [
    "#### (b) Pick a threshold to maximize TPR, while ensuring PPV >= 0.98.\n",
    "\n",
    "After finding the best threshold on the validation set, plot its confusion matrix and print its various performance metrics, for the test set."
   ]
  },
  {
   "cell_type": "code",
   "execution_count": 24,
   "metadata": {},
   "outputs": [
    {
     "name": "stdout",
     "output_type": "stream",
     "text": [
      "ON THE VALIDATION SET:\n",
      "Chosen best thr = 0.6290\n",
      "\n",
      "ON THE TEST SET:\n",
      "Predicted    0  1\n",
      "True             \n",
      "0          155  0\n",
      "1           20  5\n",
      "\n",
      "0.889 ACC\n",
      "0.200 TPR\n",
      "1.000 TNR\n",
      "1.000 PPV\n",
      "0.886 NPV\n"
     ]
    }
   ],
   "source": [
    "thresh_grid, perf_grid = compute_perf_metrics_across_thresholds(y_va_N, best3_proba[:,1])\n",
    "\n",
    "(inds,) = np.where(perf_grid['ppv']>=.98)\n",
    "idx_tpr = np.argmax(np.array(perf_grid['tpr'][inds]))\n",
    "idx_tpr = inds[idx_tpr]\n",
    "\n",
    "print(\"ON THE VALIDATION SET:\")\n",
    "print(\"Chosen best thr = %.4f\" % thresh_grid[idx_tpr])\n",
    "print(\"\")\n",
    "print(\"ON THE TEST SET:\")\n",
    "print(calc_confusion_matrix_for_threshold(y_te_N, best3_probs_1, thresh_grid[idx_tpr]))\n",
    "print(\"\")\n",
    "print_perf_metrics_for_threshold(y_te_N, best3_probs_1, thresh_grid[idx_tpr])"
   ]
  },
  {
   "cell_type": "markdown",
   "metadata": {},
   "source": [
    "#### (c) Pick a threshold to maximize PPV, while ensuring TPR >= 0.98.\n",
    "\n",
    "After finding the best threshold on the validation set, plot its confusion matrix and print its various performance metrics, for the test set."
   ]
  },
  {
   "cell_type": "code",
   "execution_count": 25,
   "metadata": {},
   "outputs": [
    {
     "name": "stdout",
     "output_type": "stream",
     "text": [
      "ON THE VALIDATION SET:\n",
      "Chosen best thr = 0.0300\n",
      "\n",
      "ON THE TEST SET:\n",
      "Predicted   0   1\n",
      "True             \n",
      "0          57  98\n",
      "1           0  25\n",
      "\n",
      "0.456 ACC\n",
      "1.000 TPR\n",
      "0.368 TNR\n",
      "0.203 PPV\n",
      "1.000 NPV\n"
     ]
    }
   ],
   "source": [
    "thresh_grid, perf_grid = compute_perf_metrics_across_thresholds(y_va_N, best3_proba[:,1])\n",
    "\n",
    "(inds,) = np.where(perf_grid['tpr']>=.98)\n",
    "idx_ppv = np.argmax(np.array(perf_grid['ppv'][inds]))\n",
    "idx_ppv = inds[idx_ppv]\n",
    "\n",
    "print(\"ON THE VALIDATION SET:\")\n",
    "print(\"Chosen best thr = %.4f\" % thresh_grid[idx_ppv]) # TODO\n",
    "print(\"\")\n",
    "print(\"ON THE TEST SET:\")\n",
    "print(calc_confusion_matrix_for_threshold(y_te_N, best3_probs_1, thresh_grid[idx_ppv]))\n",
    "print(\"\")\n",
    "print_perf_metrics_for_threshold(y_te_N, best3_probs_1, thresh_grid[idx_ppv])"
   ]
  },
  {
   "cell_type": "markdown",
   "metadata": {},
   "source": [
    "#### (d) Compare the confusion matrices from (a)–(c) to analyze the different thresholds."
   ]
  },
  {
   "cell_type": "markdown",
   "metadata": {},
   "source": [
    "**Answer**: The resulting confusion matrices all demonstrate that there is no perfect threshold which will return the best values from every single performance metric. Since, as discussed earlier, the cost of a false negative classification in our case is human lives, our top goal is to avoid such classifications at all costs. To do that, we need to maximize TPR. Yet, while ensuring that first priority, we should also avoid unnecessary biopsies (i.e, false positives) as much as possible. To do that, we need a high value for PPV. Therefore, among the three thresholds that are examined, the third one that maximizes PPV, while ensuring TPR is at least 0.98, since that one suits the needs of the problem the best, as laid out hereby."
   ]
  },
  {
   "cell_type": "markdown",
   "metadata": {},
   "source": [
    "#### (e) How many biopsies can be avoided using the best threshold for the classifier?"
   ]
  },
  {
   "cell_type": "markdown",
   "metadata": {},
   "source": [
    "**Answer**: 57 biopsies in the test set could have been avoided if this threshold was used, since 57 patients without cancer were predicted to be so by the classifier. Since there are 180 total patients in the test set, $57/180$ biopsies would have been saved, which is equal to 31.67%."
   ]
  },
  {
   "cell_type": "markdown",
   "metadata": {},
   "source": [
    "## Part Two: Decision Trees\n",
    "\n",
    "You should start by computing the two heuristic values for the toy data described in the assignment handout. You should then load the two versions of the abalone data, compute the two heuristic values on features (for the simplified data), and then build decision trees for each set of data."
   ]
  },
  {
   "cell_type": "markdown",
   "metadata": {},
   "source": [
    "### 2.1 Compute both heuristics for toy data."
   ]
  },
  {
   "cell_type": "markdown",
   "metadata": {},
   "source": [
    "#### (a) Compute the counting-based heuristic, and order the features by it."
   ]
  },
  {
   "cell_type": "code",
   "execution_count": 26,
   "metadata": {},
   "outputs": [
    {
     "name": "stdout",
     "output_type": "stream",
     "text": [
      "Feature A: 6/8\n",
      "Feature B: 6/8\n"
     ]
    }
   ],
   "source": [
    "dict_A = {'True': {'circle':2, 'cross':0}, 'False': {'circle':2, 'cross':4} }\n",
    "dict_B = {'True': {'circle':3, 'cross':1}, 'False': {'circle':1, 'cross':3} }\n",
    "\n",
    "def guess_dict(Dict):\n",
    "    for key in Dict:\n",
    "        if Dict[key]['circle'] >= Dict[key]['cross']:\n",
    "            Dict[key]['guess'] = 'circle'\n",
    "        else:\n",
    "            Dict[key]['guess'] = 'cross'\n",
    "\n",
    "guess_dict(dict_A)\n",
    "guess_dict(dict_B)\n",
    "\n",
    "def compute_score(Dict):\n",
    "    num_correct = 0\n",
    "    num_total = 0\n",
    "    for key in Dict:\n",
    "        num_correct += Dict[key][Dict[key]['guess']]\n",
    "        num_total += Dict[key]['circle']\n",
    "        num_total += Dict[key]['cross']\n",
    "    score = num_correct/num_total\n",
    "    return score, num_correct, num_total\n",
    "\n",
    "score_A, corr_A, total_A = compute_score(dict_A)\n",
    "score_B, corr_B, total_B = compute_score(dict_B)\n",
    "\n",
    "if score_A >= score_B:\n",
    "    print('Feature A: ', corr_A, '/', total_A, sep='')\n",
    "    print('Feature B: ', corr_B, '/', total_B, sep='')\n",
    "else:\n",
    "    print('Feature B: ', corr_B, '/', total_B, sep='')\n",
    "    print('Feature A: ', corr_A, '/', total_A, sep='')"
   ]
  },
  {
   "cell_type": "markdown",
   "metadata": {},
   "source": [
    "#### (b) Compute the information-theoretic heuristic, and order the features by it."
   ]
  },
  {
   "cell_type": "code",
   "execution_count": 27,
   "metadata": {
    "scrolled": true
   },
   "outputs": [
    {
     "name": "stdout",
     "output_type": "stream",
     "text": [
      "Feature A: 0.311\n",
      "Feature B: 0.189\n"
     ]
    }
   ],
   "source": [
    "dict_All = {'circle': 4, 'cross': 4}\n",
    "dict_A = {'True': {'circle':2, 'cross':0}, 'False': {'circle':2, 'cross':4} }\n",
    "dict_B = {'True': {'circle':3, 'cross':1}, 'False': {'circle':1, 'cross':3} }\n",
    "\n",
    "def Entropy(Dict):\n",
    "    circle = Dict['circle']\n",
    "    cross = Dict['cross']\n",
    "    total = sum(Dict.values())\n",
    "    if circle == 0:\n",
    "        return -1*(cross/total*np.log2(cross/total))\n",
    "    elif cross == 0:\n",
    "        return -1*(circle/total*np.log2(circle/total))\n",
    "    else:\n",
    "        return -1*(circle/total*np.log2(circle/total) + cross/total*np.log2(cross/total))\n",
    "\n",
    "def Gain(Dict, entropy_fullset):\n",
    "    entr_Tr  = Entropy(Dict['True'])\n",
    "    count_Tr = sum(Dict['True'].values())\n",
    "    entr_Fa  = Entropy(Dict['False'])\n",
    "    count_Fa = sum(Dict['False'].values())\n",
    "    total = count_Tr + count_Fa\n",
    "    \n",
    "    return entropy_fullset - (count_Tr / total * entr_Tr + count_Fa / total * entr_Fa)\n",
    "\n",
    "\n",
    "ent_All = Entropy(dict_All)\n",
    "\n",
    "gain_A = Gain(dict_A, ent_All)\n",
    "gain_B = Gain(dict_B, ent_All)\n",
    "\n",
    "if gain_A >= gain_B:\n",
    "    print('Feature A: %.3f' % gain_A)\n",
    "    print('Feature B: %.3f' % gain_B)\n",
    "else:\n",
    "    print('Feature B: %.3f' % gain_B)\n",
    "    print('Feature A: %.3f' % gain_A)"
   ]
  },
  {
   "cell_type": "markdown",
   "metadata": {},
   "source": [
    "#### (c) Discussion of results.\n",
    "\n",
    "The first heuristic is far too simple to be used for our model. Intuitively, we see that a good feature will divide the data into groups that are as homogenous as possible. In our example, separation by feature A results in one group that is fully homogenous; even so, the counting heuristic did not find a difference between the scores of feature A and feature B. In fact, there are many possible cases where there will be a tie because of the nature of this heuristic function. This is especially bad in the case of determining a feature for decision tree, because our aim is to find the superior feature among all and hence reduce the computational complexity as much as possible. On the other hand, information-theoretic heuristic gave results that confirm our intuition. Separation on feature A will result in an information gain of 0.311, while feature B has information gain 0.189. We can conclude that the second approach should be our method of choice for the heuristic."
   ]
  },
  {
   "cell_type": "markdown",
   "metadata": {},
   "source": [
    "### 2.2 Compute both heuristics for simplified abalone data."
   ]
  },
  {
   "cell_type": "markdown",
   "metadata": {},
   "source": [
    "#### (a) Compute the counting-based heuristic, and order the features by it."
   ]
  },
  {
   "cell_type": "code",
   "execution_count": 28,
   "metadata": {},
   "outputs": [
    {
     "name": "stdout",
     "output_type": "stream",
     "text": [
      "height_mm: 2316/3176\n",
      "diam_mm: 2266/3176\n",
      "length_mm: 2230/3176\n",
      "is_male: 1864/3176\n"
     ]
    }
   ],
   "source": [
    "X_tr_simple = pd.read_csv('data_abalone/small_binary_x_train.csv')\n",
    "X_te_simple = pd.read_csv('data_abalone/small_binary_x_test.csv')\n",
    "y_tr_simple = pd.read_csv('data_abalone/3class_y_train.csv')\n",
    "y_te_simple = pd.read_csv('data_abalone/3class_y_test.csv')\n",
    "\n",
    "X_tr_full = pd.read_csv('data_abalone/x_train.csv')\n",
    "X_te_full = pd.read_csv('data_abalone/x_test.csv')\n",
    "y_tr_full = pd.read_csv('data_abalone/y_train.csv')\n",
    "y_te_full = pd.read_csv('data_abalone/y_test.csv')\n",
    "\n",
    "features = []\n",
    "\n",
    "for c in list(X_tr_simple.columns):\n",
    "    var0_all_ys = y_tr_simple[X_tr_simple[c]==0]\n",
    "    var1_all_ys = y_tr_simple[X_tr_simple[c]==1]\n",
    "    \n",
    "    var0_y0 = (var0_all_ys == 0).sum()['rings']\n",
    "    var0_y1 = (var0_all_ys == 1).sum()['rings']\n",
    "    var0_y2 = (var0_all_ys == 2).sum()['rings']\n",
    "    \n",
    "    var1_y0 = (var1_all_ys == 0).sum()['rings']\n",
    "    var1_y1 = (var1_all_ys == 1).sum()['rings']\n",
    "    var1_y2 = (var1_all_ys == 2).sum()['rings']\n",
    "    \n",
    "    numerator_c = max(var0_y0, var0_y1, var0_y2) + max(var1_y0, var1_y1, var1_y2)\n",
    "    denominator_c = var0_y0 + var0_y1 + var0_y2 + var1_y0 + var1_y1 + var1_y2\n",
    "    score_c = numerator_c / denominator_c\n",
    "    \n",
    "    features.append((c,score_c, numerator_c, denominator_c))\n",
    "\n",
    "features.sort(key=lambda x: x[1], reverse=True)\n",
    "\n",
    "for f in features:\n",
    "    print(f[0], ': ', f[2], '/', f[3], sep='')"
   ]
  },
  {
   "cell_type": "markdown",
   "metadata": {},
   "source": [
    "#### (b) Compute the information-theoretic heuristic, and order the features by it."
   ]
  },
  {
   "cell_type": "code",
   "execution_count": 29,
   "metadata": {
    "scrolled": true
   },
   "outputs": [
    {
     "name": "stdout",
     "output_type": "stream",
     "text": [
      "height_mm: 0.17302867291002477\n",
      "diam_mm: 0.1500706886802703\n",
      "length_mm: 0.13543816377043694\n",
      "is_male: 0.024516482271752293\n"
     ]
    }
   ],
   "source": [
    "features_gain = []\n",
    "\n",
    "def Entropy_aba(*args):\n",
    "    total = 0\n",
    "    for arg in args:\n",
    "        total += arg\n",
    "    entro = 0\n",
    "    for arg in args:\n",
    "        p_cat = arg / total\n",
    "        entro += (p_cat * np.log2(p_cat))\n",
    "    return -entro\n",
    "\n",
    "entro_fullset = Entropy_aba((y_tr_simple == 0).sum()['rings'],(y_tr_simple == 1).sum()['rings'],(y_tr_simple == 2).sum()['rings'])\n",
    "\n",
    "for c in list(X_tr_simple.columns):\n",
    "    var0_all_ys = y_tr_simple[X_tr_simple[c]==0]\n",
    "    var1_all_ys = y_tr_simple[X_tr_simple[c]==1]\n",
    "    \n",
    "    var0_y0 = (var0_all_ys == 0).sum()['rings']\n",
    "    var0_y1 = (var0_all_ys == 1).sum()['rings']\n",
    "    var0_y2 = (var0_all_ys == 2).sum()['rings']\n",
    "    \n",
    "    var1_y0 = (var1_all_ys == 0).sum()['rings']\n",
    "    var1_y1 = (var1_all_ys == 1).sum()['rings']\n",
    "    var1_y2 = (var1_all_ys == 2).sum()['rings']\n",
    "    \n",
    "    entro_0 = Entropy_aba(var0_y0, var0_y1, var0_y2)\n",
    "    entro_1 = Entropy_aba(var1_y0, var1_y1, var1_y2)\n",
    "    \n",
    "    ratio_0 = var0_all_ys.size / y_tr_simple.size \n",
    "    ratio_1 = var1_all_ys.size / y_tr_simple.size\n",
    "    \n",
    "    gain = entro_fullset - (ratio_0 * entro_0 + ratio_1 * entro_1)\n",
    "    \n",
    "    features_gain.append((c, gain))\n",
    "    \n",
    "features_gain.sort(key=lambda x: x[1], reverse=True)\n",
    "\n",
    "for f in features_gain:\n",
    "    print(f[0], ': ', f[1], sep='')"
   ]
  },
  {
   "cell_type": "markdown",
   "metadata": {},
   "source": [
    "### 2.3 Generate decision trees for full- and restricted-feature data\n",
    "\n",
    "#### (a) Print accuracy values and generate tree images."
   ]
  },
  {
   "cell_type": "code",
   "execution_count": 30,
   "metadata": {},
   "outputs": [
    {
     "name": "stdout",
     "output_type": "stream",
     "text": [
      "FULL DATA SET: \n",
      "\n",
      "Accuracy Score on Training Set: 1.0000\n",
      "Accuracy Score on Testing Set: 0.1880\n",
      "\n",
      "SIMPLIFIED DATA SET: \n",
      "\n",
      "Accuracy Score on Training Set: 0.7327\n",
      "Accuracy Score on Testing Set: 0.7220\n",
      "\n"
     ]
    }
   ],
   "source": [
    "dec_full = sklearn.tree.DecisionTreeClassifier(criterion='entropy')\n",
    "dec_full.fit(X_tr_full, y_tr_full)\n",
    "tr_full_score = dec_full.score(X_tr_full, y_tr_full)\n",
    "te_full_score = dec_full.score(X_te_full, y_te_full)\n",
    "\n",
    "print('FULL DATA SET: ')\n",
    "print('')\n",
    "print('Accuracy Score on Training Set: %.4f' % tr_full_score)\n",
    "print('Accuracy Score on Testing Set: %.4f' % te_full_score)\n",
    "print('')\n",
    "\n",
    "dec_simple = sklearn.tree.DecisionTreeClassifier(criterion='entropy')\n",
    "dec_simple.fit(X_tr_simple, y_tr_simple)\n",
    "tr_simple_score = dec_simple.score(X_tr_simple, y_tr_simple)\n",
    "te_simple_score = dec_simple.score(X_te_simple, y_te_simple)\n",
    "\n",
    "print('SIMPLIFIED DATA SET: ')\n",
    "print('')\n",
    "print('Accuracy Score on Training Set: %.4f' % tr_simple_score)\n",
    "print('Accuracy Score on Testing Set: %.4f' % te_simple_score)\n",
    "print('')\n",
    "\n",
    "dec_full_data = sklearn.tree.export_graphviz(dec_full, out_file=None) \n",
    "graph_full = graphviz.Source(dec_full_data) \n",
    "graph_full.render(\"full\");\n",
    "\n",
    "dec_simple_data = sklearn.tree.export_graphviz(dec_simple, out_file=None) \n",
    "graph_simple = graphviz.Source(dec_simple_data) \n",
    "graph_simple.render(\"simple\");"
   ]
  },
  {
   "cell_type": "markdown",
   "metadata": {},
   "source": [
    "#### (b) Discuss the results seen for the two trees\n",
    "\n",
    "The results show that the using the full data set with all the features result in overfitting. We can make that conclusion based on the accuracy score of 100% on the training set, while a very poor score of 18.8% on the testing set. The tree of this model also supports this claim, since it is huge and has so many branches: it implies that it would not be so good at generalizing to other cases.\n",
    "\n",
    "On the other hand, the model that was trained with the simplified version of the dataset does a better job. It has accuracy scores of 73.27% and 72.2% on Training and Testing sets, respectively, which are not bad (at least good enough not to overfit). The tree has a more reasonable size with only 4 levels.  "
   ]
  }
 ],
 "metadata": {
  "kernelspec": {
   "display_name": "Python 3",
   "language": "python",
   "name": "python3"
  },
  "language_info": {
   "codemirror_mode": {
    "name": "ipython",
    "version": 3
   },
   "file_extension": ".py",
   "mimetype": "text/x-python",
   "name": "python",
   "nbconvert_exporter": "python",
   "pygments_lexer": "ipython3",
   "version": "3.7.4"
  }
 },
 "nbformat": 4,
 "nbformat_minor": 2
}
